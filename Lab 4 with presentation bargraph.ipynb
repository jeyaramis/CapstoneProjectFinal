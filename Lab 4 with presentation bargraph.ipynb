{
    "cells": [
        {
            "cell_type": "markdown",
            "metadata": {},
            "source": "<center>\n    <img src=\"https://gitlab.com/ibm/skills-network/courses/placeholder101/-/raw/master/labs/module%201/images/IDSNlogo.png\" width=\"300\" alt=\"cognitiveclass.ai logo\"  />\n</center>\n"
        },
        {
            "cell_type": "markdown",
            "metadata": {},
            "source": "# **Hands-on Lab : Web Scraping**\n"
        },
        {
            "cell_type": "markdown",
            "metadata": {},
            "source": "Estimated time needed: **30 to 45** minutes\n"
        },
        {
            "cell_type": "markdown",
            "metadata": {},
            "source": "## Objectives\n"
        },
        {
            "cell_type": "markdown",
            "metadata": {},
            "source": "In this lab you will perform the following:\n"
        },
        {
            "cell_type": "markdown",
            "metadata": {},
            "source": "-   Extract information from a given web site \n-   Write the scraped data into a csv file.\n"
        },
        {
            "cell_type": "markdown",
            "metadata": {},
            "source": "## Extract information from the given web site\n\nYou will extract the data from the below web site: <br> \n"
        },
        {
            "cell_type": "code",
            "execution_count": 1,
            "metadata": {},
            "outputs": [],
            "source": "#this url contains the data you need to scrape\nurl = \"https://cf-courses-data.s3.us.cloud-object-storage.appdomain.cloud/IBM-DA0321EN-SkillsNetwork/labs/datasets/Programming_Languages.html\""
        },
        {
            "cell_type": "markdown",
            "metadata": {},
            "source": "The data you need to scrape is the **name of the programming language** and **average annual salary**.<br> It is a good idea to open the url in your web broswer and study the contents of the web page before you start to scrape.\n"
        },
        {
            "cell_type": "markdown",
            "metadata": {},
            "source": "Import the required libraries\n"
        },
        {
            "cell_type": "code",
            "execution_count": 2,
            "metadata": {},
            "outputs": [],
            "source": "# Your code here\nfrom bs4 import BeautifulSoup # this module helps in web scrapping.\nimport requests "
        },
        {
            "cell_type": "markdown",
            "metadata": {},
            "source": "Download the webpage at the url\n"
        },
        {
            "cell_type": "code",
            "execution_count": 3,
            "metadata": {},
            "outputs": [],
            "source": "#your code goes here\ndata=requests.get(url).text"
        },
        {
            "cell_type": "markdown",
            "metadata": {},
            "source": "Create a soup object\n"
        },
        {
            "cell_type": "code",
            "execution_count": 4,
            "metadata": {},
            "outputs": [
                {
                    "name": "stdout",
                    "output_type": "stream",
                    "text": "<!doctype html>\n<html lang=\"en\">\n<head>\n<title>\nSalary survey results of programming languages\n</title>\n<style>\ntable, th, td {\n  border: 1px solid black;\n}\n</style>\n</head>\n\n<body>\n<hr />\n<h2>Popular Programming Languages</h2>\n<hr />\n<p>Finding out which is the best language is a tough task. A programming language is created to solve a specific problem. A language which is good for task A may not be able to properly handle task B. Comparing programming language is never easy. What we can do, however, is find which is popular in the industry.</p>\n<p>There are many ways to find the popularity of a programming languages. Counting the number of google searchs for each language is a simple way to find the popularity. GitHub and StackOverflow also can give some good pointers.</p>\n<p>Salary surveys are a way to find out the programmings languages that are most in demand in the industry. Below table is the result of one such survey. When using any survey keep in mind that the results vary year on year.</p>\n<hr />\n<table>\n<tbody>\n<tr>\n<td>No.</td>\n<td>Language</td>\n<td>Created By</td>\n<td>Average Annual Salary</td>\n<td>Learning Difficulty</td>\n</tr>\n<tr>\n<td>1</td>\n<td>Python</td>\n<td>Guido van Rossum</td>\n<td>$114,383</td>\n<td>Easy</td>\n</tr>\n<tr>\n<td>2</td>\n<td>Java</td>\n<td>James Gosling</td>\n<td>$101,013</td>\n<td>Easy</td>\n</tr>\n<tr>\n<td>3</td>\n<td>R</td>\n<td>Robert Gentleman, Ross Ihaka</td>\n<td>$92,037</td>\n<td>Hard</td>\n</tr>\n<tr>\n<td>4</td>\n<td>Javascript</td>\n<td>Netscape</td>\n<td>$110,981</td>\n<td>Easy</td>\n</tr>\n<tr>\n<td>5</td>\n<td>Swift</td>\n<td>Apple</td>\n<td>$130,801</td>\n<td>Easy</td>\n</tr>\n<tr>\n<td>6</td>\n<td>C++</td>\n<td>Bjarne Stroustrup</td>\n<td>$113,865</td>\n<td>Hard</td>\n</tr>\n<tr>\n<td>7</td>\n<td>C#</td>\n<td>Microsoft</td>\n<td>$88,726</td>\n<td>Hard</td>\n</tr>\n<tr>\n<td>8</td>\n<td>PHP</td>\n<td>Rasmus Lerdorf</td>\n<td>$84,727</td>\n<td>Easy</td>\n</tr>\n<tr>\n<td>9</td>\n<td>SQL</td>\n<td>Donald D. Chamberlin, Raymond F. Boyce.</td>\n<td>$84,793</td>\n<td>Easy</td>\n</tr>\n<tr>\n<td>10</td>\n<td>Go</td>\n<td>Robert Griesemer, Ken Thompson, Rob Pike.</td>\n<td>$94,082</td>\n<td>Difficult</td>\n</tr>\n</tbody>\n</table>\n<hr />\n</body>\n</html>\n"
                }
            ],
            "source": "#your code goes here\nsoup=BeautifulSoup(data,'html5lib')\nprint(data)"
        },
        {
            "cell_type": "markdown",
            "metadata": {},
            "source": "Scrape the `Language name` and `annual average salary`.\n"
        },
        {
            "cell_type": "code",
            "execution_count": 5,
            "metadata": {},
            "outputs": [],
            "source": "#your code goes here\nimport pandas as pd\ntable = soup.find('table')\nlang_name=[]\nan_sal=[]\nfor row in table.find_all('tr'): # in html table row is represented by the tag <tr>\n    # Get all columns in each row.\n    cols = row.find_all('td') # in html a column is represented by the tag <td>\n    lang_name.append(cols[1].getText()) # store the value in column 1 as lan_name\n    an_sal.append(cols[3].getText()) # store the value in column 3 as an_avg_sal\nA={'Language':lang_name,'Average Annual Salary':an_sal}\ndf=pd.DataFrame(A)\ndf.drop(df.index[0],inplace=True)"
        },
        {
            "cell_type": "markdown",
            "metadata": {},
            "source": "Save the scrapped data into a file named _popular-languages.csv_\n"
        },
        {
            "cell_type": "code",
            "execution_count": 6,
            "metadata": {},
            "outputs": [
                {
                    "data": {
                        "text/html": "<div>\n<style scoped>\n    .dataframe tbody tr th:only-of-type {\n        vertical-align: middle;\n    }\n\n    .dataframe tbody tr th {\n        vertical-align: top;\n    }\n\n    .dataframe thead th {\n        text-align: right;\n    }\n</style>\n<table border=\"1\" class=\"dataframe\">\n  <thead>\n    <tr style=\"text-align: right;\">\n      <th></th>\n      <th>Language</th>\n      <th>Average Annual Salary</th>\n    </tr>\n  </thead>\n  <tbody>\n    <tr>\n      <th>1</th>\n      <td>Python</td>\n      <td>$114,383</td>\n    </tr>\n    <tr>\n      <th>2</th>\n      <td>Java</td>\n      <td>$101,013</td>\n    </tr>\n    <tr>\n      <th>3</th>\n      <td>R</td>\n      <td>$92,037</td>\n    </tr>\n    <tr>\n      <th>4</th>\n      <td>Javascript</td>\n      <td>$110,981</td>\n    </tr>\n    <tr>\n      <th>5</th>\n      <td>Swift</td>\n      <td>$130,801</td>\n    </tr>\n    <tr>\n      <th>6</th>\n      <td>C++</td>\n      <td>$113,865</td>\n    </tr>\n    <tr>\n      <th>7</th>\n      <td>C#</td>\n      <td>$88,726</td>\n    </tr>\n    <tr>\n      <th>8</th>\n      <td>PHP</td>\n      <td>$84,727</td>\n    </tr>\n    <tr>\n      <th>9</th>\n      <td>SQL</td>\n      <td>$84,793</td>\n    </tr>\n    <tr>\n      <th>10</th>\n      <td>Go</td>\n      <td>$94,082</td>\n    </tr>\n  </tbody>\n</table>\n</div>",
                        "text/plain": "      Language Average Annual Salary\n1       Python              $114,383\n2         Java              $101,013\n3            R               $92,037\n4   Javascript              $110,981\n5        Swift              $130,801\n6          C++              $113,865\n7           C#               $88,726\n8          PHP               $84,727\n9          SQL               $84,793\n10          Go               $94,082"
                    },
                    "execution_count": 6,
                    "metadata": {},
                    "output_type": "execute_result"
                }
            ],
            "source": "# your code goes here\ndf.to_csv('popular-languages.csv')\ndf\n\n"
        },
        {
            "cell_type": "code",
            "execution_count": 28,
            "metadata": {},
            "outputs": [
                {
                    "data": {
                        "text/html": "<div>\n<style scoped>\n    .dataframe tbody tr th:only-of-type {\n        vertical-align: middle;\n    }\n\n    .dataframe tbody tr th {\n        vertical-align: top;\n    }\n\n    .dataframe thead th {\n        text-align: right;\n    }\n</style>\n<table border=\"1\" class=\"dataframe\">\n  <thead>\n    <tr style=\"text-align: right;\">\n      <th></th>\n      <th>Language</th>\n      <th>Average Annual Salary</th>\n    </tr>\n  </thead>\n  <tbody>\n    <tr>\n      <th>10</th>\n      <td>Go</td>\n      <td>94082</td>\n    </tr>\n    <tr>\n      <th>3</th>\n      <td>R</td>\n      <td>92037</td>\n    </tr>\n    <tr>\n      <th>7</th>\n      <td>C#</td>\n      <td>88726</td>\n    </tr>\n    <tr>\n      <th>9</th>\n      <td>SQL</td>\n      <td>84793</td>\n    </tr>\n    <tr>\n      <th>8</th>\n      <td>PHP</td>\n      <td>84727</td>\n    </tr>\n    <tr>\n      <th>5</th>\n      <td>Swift</td>\n      <td>130801</td>\n    </tr>\n    <tr>\n      <th>1</th>\n      <td>Python</td>\n      <td>114383</td>\n    </tr>\n    <tr>\n      <th>6</th>\n      <td>C++</td>\n      <td>113865</td>\n    </tr>\n    <tr>\n      <th>4</th>\n      <td>Javascript</td>\n      <td>110981</td>\n    </tr>\n    <tr>\n      <th>2</th>\n      <td>Java</td>\n      <td>101013</td>\n    </tr>\n  </tbody>\n</table>\n</div>",
                        "text/plain": "      Language Average Annual Salary\n10          Go                 94082\n3            R                 92037\n7           C#                 88726\n9          SQL                 84793\n8          PHP                 84727\n5        Swift                130801\n1       Python                114383\n6          C++                113865\n4   Javascript                110981\n2         Java                101013"
                    },
                    "execution_count": 28,
                    "metadata": {},
                    "output_type": "execute_result"
                }
            ],
            "source": "df['Average Annual Salary'] = df['Average Annual Salary'].str.replace('$','')\ndf=df.sort_values(by='Average Annual Salary',ascending=False)\ndf\n"
        },
        {
            "cell_type": "code",
            "execution_count": 27,
            "metadata": {},
            "outputs": [
                {
                    "data": {
                        "text/html": "<div>\n<style scoped>\n    .dataframe tbody tr th:only-of-type {\n        vertical-align: middle;\n    }\n\n    .dataframe tbody tr th {\n        vertical-align: top;\n    }\n\n    .dataframe thead th {\n        text-align: right;\n    }\n</style>\n<table border=\"1\" class=\"dataframe\">\n  <thead>\n    <tr style=\"text-align: right;\">\n      <th></th>\n      <th>Language</th>\n      <th>Avg_sal</th>\n    </tr>\n  </thead>\n  <tbody>\n    <tr>\n      <th>0</th>\n      <td>Go</td>\n      <td>94082</td>\n    </tr>\n    <tr>\n      <th>1</th>\n      <td>R</td>\n      <td>92037</td>\n    </tr>\n    <tr>\n      <th>2</th>\n      <td>C#</td>\n      <td>88726</td>\n    </tr>\n    <tr>\n      <th>3</th>\n      <td>SQL</td>\n      <td>84793</td>\n    </tr>\n    <tr>\n      <th>4</th>\n      <td>PHP</td>\n      <td>84727</td>\n    </tr>\n    <tr>\n      <th>5</th>\n      <td>Swift</td>\n      <td>130801</td>\n    </tr>\n    <tr>\n      <th>6</th>\n      <td>Python</td>\n      <td>114383</td>\n    </tr>\n    <tr>\n      <th>7</th>\n      <td>C++</td>\n      <td>113865</td>\n    </tr>\n    <tr>\n      <th>8</th>\n      <td>Javascript</td>\n      <td>110981</td>\n    </tr>\n    <tr>\n      <th>9</th>\n      <td>Java</td>\n      <td>101013</td>\n    </tr>\n  </tbody>\n</table>\n</div>",
                        "text/plain": "     Language  Avg_sal\n0          Go    94082\n1           R    92037\n2          C#    88726\n3         SQL    84793\n4         PHP    84727\n5       Swift   130801\n6      Python   114383\n7         C++   113865\n8  Javascript   110981\n9        Java   101013"
                    },
                    "execution_count": 27,
                    "metadata": {},
                    "output_type": "execute_result"
                }
            ],
            "source": "d1=['Go','R','C#','SQL','PHP','Swift','Python','C++','Javascript','Java']\nd2=[94082,92037,88726,84793,84727,130801,114383,113865,110981,101013]\ndf2=pd.DataFrame({'Language':d1, 'Avg_sal':d2})\ndf2"
        },
        {
            "cell_type": "code",
            "execution_count": 31,
            "metadata": {},
            "outputs": [
                {
                    "data": {
                        "text/html": "<div>\n<style scoped>\n    .dataframe tbody tr th:only-of-type {\n        vertical-align: middle;\n    }\n\n    .dataframe tbody tr th {\n        vertical-align: top;\n    }\n\n    .dataframe thead th {\n        text-align: right;\n    }\n</style>\n<table border=\"1\" class=\"dataframe\">\n  <thead>\n    <tr style=\"text-align: right;\">\n      <th></th>\n      <th>Language</th>\n      <th>Avg_sal</th>\n    </tr>\n  </thead>\n  <tbody>\n    <tr>\n      <th>5</th>\n      <td>Swift</td>\n      <td>130801</td>\n    </tr>\n    <tr>\n      <th>6</th>\n      <td>Python</td>\n      <td>114383</td>\n    </tr>\n    <tr>\n      <th>7</th>\n      <td>C++</td>\n      <td>113865</td>\n    </tr>\n    <tr>\n      <th>8</th>\n      <td>Javascript</td>\n      <td>110981</td>\n    </tr>\n    <tr>\n      <th>9</th>\n      <td>Java</td>\n      <td>101013</td>\n    </tr>\n    <tr>\n      <th>0</th>\n      <td>Go</td>\n      <td>94082</td>\n    </tr>\n    <tr>\n      <th>1</th>\n      <td>R</td>\n      <td>92037</td>\n    </tr>\n    <tr>\n      <th>2</th>\n      <td>C#</td>\n      <td>88726</td>\n    </tr>\n    <tr>\n      <th>3</th>\n      <td>SQL</td>\n      <td>84793</td>\n    </tr>\n    <tr>\n      <th>4</th>\n      <td>PHP</td>\n      <td>84727</td>\n    </tr>\n  </tbody>\n</table>\n</div>",
                        "text/plain": "     Language  Avg_sal\n5       Swift   130801\n6      Python   114383\n7         C++   113865\n8  Javascript   110981\n9        Java   101013\n0          Go    94082\n1           R    92037\n2          C#    88726\n3         SQL    84793\n4         PHP    84727"
                    },
                    "execution_count": 31,
                    "metadata": {},
                    "output_type": "execute_result"
                }
            ],
            "source": "df3=df2.sort_values(by='Avg_sal',ascending=False)\ndf3"
        },
        {
            "cell_type": "code",
            "execution_count": 32,
            "metadata": {},
            "outputs": [
                {
                    "data": {
                        "image/png": "[encoded data removed]",
                        "text/plain": "<Figure size 432x288 with 1 Axes>"
                    },
                    "metadata": {
                        "needs_background": "light"
                    },
                    "output_type": "display_data"
                }
            ],
            "source": "import seaborn as sns\nimport matplotlib.pylab as plt\n\nsns.barplot(x=df3['Language'],y=df3['Avg_sal'],data=df3)\nplt.xticks(rotation=90)\nplt.show()"
        },
        {
            "cell_type": "markdown",
            "metadata": {},
            "source": "## Authors\n"
        },
        {
            "cell_type": "markdown",
            "metadata": {},
            "source": "Ramesh Sannareddy\n"
        },
        {
            "cell_type": "markdown",
            "metadata": {},
            "source": "### Other Contributors\n"
        },
        {
            "cell_type": "markdown",
            "metadata": {},
            "source": "Rav Ahuja\n"
        },
        {
            "cell_type": "markdown",
            "metadata": {},
            "source": "## Change Log\n"
        },
        {
            "cell_type": "markdown",
            "metadata": {},
            "source": "| Date (YYYY-MM-DD) | Version | Changed By        | Change Description                 |\n| ----------------- | ------- | ----------------- | ---------------------------------- |\n| 2020-10-17        | 0.1     | Ramesh Sannareddy | Created initial version of the lab |\n"
        },
        {
            "cell_type": "markdown",
            "metadata": {},
            "source": " Copyright \u00a9 2020 IBM Corporation. This notebook and its source code are released under the terms of the [MIT License](https://cognitiveclass.ai/mit-license?cm_mmc=Email_Newsletter-_-Developer_Ed%2BTech-_-WW_WW-_-SkillsNetwork-Courses-IBM-DA0321EN-SkillsNetwork-21426264&cm_mmca1=000026UJ&cm_mmca2=10006555&cm_mmca3=M12345678&cvosrc=email.Newsletter.M12345678&cvo_campaign=000026UJ&cm_mmc=Email_Newsletter-_-Developer_Ed%2BTech-_-WW_WW-_-SkillsNetwork-Courses-IBM-DA0321EN-SkillsNetwork-21426264&cm_mmca1=000026UJ&cm_mmca2=10006555&cm_mmca3=M12345678&cvosrc=email.Newsletter.M12345678&cvo_campaign=000026UJ&cm_mmc=Email_Newsletter-_-Developer_Ed%2BTech-_-WW_WW-_-SkillsNetwork-Courses-IBM-DA0321EN-SkillsNetwork-21426264&cm_mmca1=000026UJ&cm_mmca2=10006555&cm_mmca3=M12345678&cvosrc=email.Newsletter.M12345678&cvo_campaign=000026UJ&cm_mmc=Email_Newsletter-_-Developer_Ed%2BTech-_-WW_WW-_-SkillsNetwork-Courses-IBM-DA0321EN-SkillsNetwork-21426264&cm_mmca1=000026UJ&cm_mmca2=10006555&cm_mmca3=M12345678&cvosrc=email.Newsletter.M12345678&cvo_campaign=000026UJ).\n"
        }
    ],
    "metadata": {
        "kernelspec": {
            "display_name": "Python 3.7",
            "language": "python",
            "name": "python3"
        },
        "language_info": {
            "codemirror_mode": {
                "name": "ipython",
                "version": 3
            },
            "file_extension": ".py",
            "mimetype": "text/x-python",
            "name": "python",
            "nbconvert_exporter": "python",
            "pygments_lexer": "ipython3",
            "version": "3.7.10"
        }
    },
    "nbformat": 4,
    "nbformat_minor": 4
}